{
  "nbformat": 4,
  "nbformat_minor": 0,
  "metadata": {
    "colab": {
      "provenance": [],
      "mount_file_id": "10gqKKxqyN5FaONBYYJORVnBmfHHpuwEg",
      "authorship_tag": "ABX9TyPq0gP1KIQPJMwrgKO6Ti2Q",
      "include_colab_link": true
    },
    "kernelspec": {
      "name": "python3",
      "display_name": "Python 3"
    },
    "language_info": {
      "name": "python"
    }
  },
  "cells": [
    {
      "cell_type": "markdown",
      "metadata": {
        "id": "view-in-github",
        "colab_type": "text"
      },
      "source": [
        "<a href=\"https://colab.research.google.com/github/Astrayesa/MachineLearningExample/blob/main/Wrangling_Python.ipynb\" target=\"_parent\"><img src=\"https://colab.research.google.com/assets/colab-badge.svg\" alt=\"Open In Colab\"/></a>"
      ]
    },
    {
      "cell_type": "markdown",
      "source": [
        "# Pandas"
      ],
      "metadata": {
        "id": "2z06WxKyQR17"
      }
    },
    {
      "cell_type": "code",
      "execution_count": null,
      "metadata": {
        "id": "vnESfnktZXLQ"
      },
      "outputs": [],
      "source": [
        "import pandas as pd"
      ]
    },
    {
      "cell_type": "markdown",
      "source": [
        "# Series"
      ],
      "metadata": {
        "id": "XhBp3YoRRGas"
      }
    },
    {
      "cell_type": "code",
      "source": [
        "ser = pd.Series([1,2,3,4])\n",
        "print(ser)"
      ],
      "metadata": {
        "colab": {
          "base_uri": "https://localhost:8080/"
        },
        "id": "QnVRWIrWRMrz",
        "outputId": "0b63cc2d-f907-4c4b-9889-9ab242d334f6"
      },
      "execution_count": null,
      "outputs": [
        {
          "output_type": "stream",
          "name": "stdout",
          "text": [
            "0    1\n",
            "1    2\n",
            "2    3\n",
            "3    4\n",
            "dtype: int64\n"
          ]
        }
      ]
    },
    {
      "cell_type": "markdown",
      "source": [
        "# DATAFRAME"
      ],
      "metadata": {
        "id": "OcH7ZH8IP1X8"
      }
    },
    {
      "cell_type": "code",
      "source": [
        "df = pd.DataFrame({\n",
        "    \"nomor\": [1,2,3],\n",
        "    \"nama\": [\"anton\", \"budi\", [\"list in list\"]]\n",
        "})\n",
        "print(df)"
      ],
      "metadata": {
        "colab": {
          "base_uri": "https://localhost:8080/"
        },
        "id": "Q7mNtnXjRo5S",
        "outputId": "a93fe82e-49a0-4bb1-c537-87d0947651bd"
      },
      "execution_count": null,
      "outputs": [
        {
          "output_type": "stream",
          "name": "stdout",
          "text": [
            "   nomor            nama\n",
            "0      1           anton\n",
            "1      2            budi\n",
            "2      3  [list in list]\n"
          ]
        }
      ]
    },
    {
      "cell_type": "markdown",
      "source": [
        "# Pandas IO"
      ],
      "metadata": {
        "id": "oAvMXA9LQZO6"
      }
    },
    {
      "cell_type": "markdown",
      "source": [
        "## Input"
      ],
      "metadata": {
        "id": "Z8usPLvOS2X8"
      }
    },
    {
      "cell_type": "code",
      "source": [
        "# pd.read_csv(\"file.csv\")\n",
        "# pd.read_excel(\"file.xlx\")\n",
        "# pd.read_json(\"file.json\")\n",
        "# pd.read_pickle(\"file.pkl\")"
      ],
      "metadata": {
        "id": "21pX_603TvCK"
      },
      "execution_count": null,
      "outputs": []
    },
    {
      "cell_type": "code",
      "source": [
        "calif = pd.read_csv(\"/content/sample_data/california_housing_train.csv\")\n",
        "print(calif)"
      ],
      "metadata": {
        "colab": {
          "base_uri": "https://localhost:8080/"
        },
        "id": "BlRSD84gek2d",
        "outputId": "ab114dd1-abe8-4ab1-8006-92701ceeefce"
      },
      "execution_count": null,
      "outputs": [
        {
          "output_type": "stream",
          "name": "stdout",
          "text": [
            "       longitude  latitude  housing_median_age  total_rooms  total_bedrooms  \\\n",
            "0        -114.31     34.19                15.0       5612.0          1283.0   \n",
            "1        -114.47     34.40                19.0       7650.0          1901.0   \n",
            "2        -114.56     33.69                17.0        720.0           174.0   \n",
            "3        -114.57     33.64                14.0       1501.0           337.0   \n",
            "4        -114.57     33.57                20.0       1454.0           326.0   \n",
            "...          ...       ...                 ...          ...             ...   \n",
            "16995    -124.26     40.58                52.0       2217.0           394.0   \n",
            "16996    -124.27     40.69                36.0       2349.0           528.0   \n",
            "16997    -124.30     41.84                17.0       2677.0           531.0   \n",
            "16998    -124.30     41.80                19.0       2672.0           552.0   \n",
            "16999    -124.35     40.54                52.0       1820.0           300.0   \n",
            "\n",
            "       population  households  median_income  median_house_value  \n",
            "0          1015.0       472.0         1.4936             66900.0  \n",
            "1          1129.0       463.0         1.8200             80100.0  \n",
            "2           333.0       117.0         1.6509             85700.0  \n",
            "3           515.0       226.0         3.1917             73400.0  \n",
            "4           624.0       262.0         1.9250             65500.0  \n",
            "...           ...         ...            ...                 ...  \n",
            "16995       907.0       369.0         2.3571            111400.0  \n",
            "16996      1194.0       465.0         2.5179             79000.0  \n",
            "16997      1244.0       456.0         3.0313            103600.0  \n",
            "16998      1298.0       478.0         1.9797             85800.0  \n",
            "16999       806.0       270.0         3.0147             94600.0  \n",
            "\n",
            "[17000 rows x 9 columns]\n"
          ]
        }
      ]
    },
    {
      "cell_type": "markdown",
      "source": [
        "## Output"
      ],
      "metadata": {
        "id": "nxqDCt2uS4oj"
      }
    },
    {
      "cell_type": "code",
      "source": [
        "# df.to_csv(\"file.csv\")\n",
        "# df.to_excel(\"file.xlx\")\n",
        "# df.to_json(\"file.json\")\n",
        "# df.to_pickle(\"file.pkl\")"
      ],
      "metadata": {
        "id": "RO71Dbl3TToK"
      },
      "execution_count": null,
      "outputs": []
    },
    {
      "cell_type": "code",
      "source": [
        "df.to_csv(\"output.csv\")\n",
        "df.to_pickle(\"picle.pkl\")"
      ],
      "metadata": {
        "id": "Q5nelGnQS6lO"
      },
      "execution_count": 36,
      "outputs": []
    }
  ]
}